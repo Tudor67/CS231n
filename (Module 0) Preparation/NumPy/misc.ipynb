{
 "cells": [
  {
   "cell_type": "code",
   "execution_count": 1,
   "metadata": {
    "collapsed": true
   },
   "outputs": [],
   "source": [
    "import numpy as np\n",
    "\n",
    "from pprint import pprint"
   ]
  },
  {
   "cell_type": "markdown",
   "metadata": {},
   "source": [
    "## Array indexing  \n",
    "_Numpy_ offers several ways to index into arrays. I will mention some methods of indexing.  \n",
    "More information can be found here: http://cs231n.github.io/python-numpy-tutorial/#numpy-array-indexing  \n",
    "\n",
    "Example: a is the following rank 2 array:  \n",
    "[[ 0  1  2  3  4]  \n",
    " [ 5  6  7  8  9]  \n",
    " [10 11 12 13 14]]  \n",
    "\n",
    "1.) __Slicing__: \n",
    "   * specify a slice for each dimension of the array;\n",
    "   * the result will be an array with the same rank (nr of dimensions).\n",
    "   \n",
    "   > a[:, 1:4] -> array([[1, 2, 3], [6, 7, 8], [11, 12, 13]])  \n",
    "   \n",
    "2.) __Integer indexing__:\n",
    "   * specify lists of indices for each dimension of the array;\n",
    "   * the result will be an array with a lower rank (nr of dimensions).\n",
    "   \n",
    "   > a[range(3), range(1, 4)] -> array([1, 7, 13])  \n",
    "   > a[[0, 1, 2], [1, 2, 3]]  -> array([1, 7, 13]) \n",
    "\n",
    "3.) __Integer indexing + slicing => slicing behaviour__\n",
    "   * the result will be an array with the same rank.\n",
    "   \n",
    "   > a[[0, 1, 2], 1:4]  -> array([[1, 2, 3], [6, 7, 8], [11, 12, 13]])  "
   ]
  },
  {
   "cell_type": "code",
   "execution_count": 2,
   "metadata": {},
   "outputs": [
    {
     "name": "stdout",
     "output_type": "stream",
     "text": [
      "<type 'numpy.ndarray'>\n",
      "(3, 5)\n",
      "[[ 0  1  2  3  4]\n",
      " [ 5  6  7  8  9]\n",
      " [10 11 12 13 14]]\n"
     ]
    }
   ],
   "source": [
    "a = np.arange(15).reshape(3, 5)\n",
    "print(type(a))\n",
    "print(a.shape)\n",
    "print(a)"
   ]
  },
  {
   "cell_type": "code",
   "execution_count": 3,
   "metadata": {},
   "outputs": [
    {
     "name": "stdout",
     "output_type": "stream",
     "text": [
      "(3, 3)\n",
      "[[ 1  2  3]\n",
      " [ 6  7  8]\n",
      " [11 12 13]]\n",
      "(3, 3)\n",
      "[[ 1  2  3]\n",
      " [ 6  7  8]\n",
      " [11 12 13]]\n"
     ]
    }
   ],
   "source": [
    "# slicing\n",
    "print(a[:, 1:4].shape)\n",
    "print(a[:, 1:4])\n",
    "print(a[0:3, 1:4].shape)\n",
    "print(a[0:3, 1:4])"
   ]
  },
  {
   "cell_type": "code",
   "execution_count": 4,
   "metadata": {},
   "outputs": [
    {
     "name": "stdout",
     "output_type": "stream",
     "text": [
      "(3,)\n",
      "[ 1  7 13]\n",
      "(3,)\n",
      "[ 1  7 13]\n"
     ]
    }
   ],
   "source": [
    "# integer indexing\n",
    "print(a[range(3), range(1, 4)].shape)\n",
    "print(a[range(3), range(1, 4)])\n",
    "\n",
    "print(a[[0, 1, 2], [1, 2, 3]].shape)\n",
    "print(a[[0, 1, 2], [1, 2, 3]])"
   ]
  },
  {
   "cell_type": "code",
   "execution_count": 5,
   "metadata": {},
   "outputs": [
    {
     "name": "stdout",
     "output_type": "stream",
     "text": [
      "(3, 3)\n",
      "[[ 1  2  3]\n",
      " [ 6  7  8]\n",
      " [11 12 13]]\n",
      "(3, 3)\n",
      "[[ 1  2  3]\n",
      " [ 6  7  8]\n",
      " [11 12 13]]\n"
     ]
    }
   ],
   "source": [
    "# integer indexing + slicing => slicing behaviour\n",
    "print(a[[0, 1, 2], 1:4].shape)\n",
    "print(a[[0, 1, 2], 1:4])\n",
    "print(a[0:3, [1, 2, 3]].shape)\n",
    "print(a[0:3, [1, 2, 3]])"
   ]
  },
  {
   "cell_type": "code",
   "execution_count": 6,
   "metadata": {},
   "outputs": [
    {
     "name": "stdout",
     "output_type": "stream",
     "text": [
      "<type 'numpy.ndarray'>\n",
      "(5,)\n",
      "[5 6 7 8 9]\n",
      "(5,)\n",
      "[5 6 7 8 9]\n",
      "(5,)\n",
      "[5 6 7 8 9]\n"
     ]
    }
   ],
   "source": [
    "print(type(a[1]))\n",
    "\n",
    "print(a[1].shape)\n",
    "print(a[1])\n",
    "print(a[1, :].shape)\n",
    "print(a[1, :])\n",
    "print(a[1, np.arange(a.shape[1])].shape)\n",
    "print(a[1, np.arange(a.shape[1])])"
   ]
  },
  {
   "cell_type": "code",
   "execution_count": 7,
   "metadata": {},
   "outputs": [
    {
     "name": "stdout",
     "output_type": "stream",
     "text": [
      "<type 'numpy.ndarray'>\n",
      "(5, 1)\n",
      "[[5]\n",
      " [6]\n",
      " [7]\n",
      " [8]\n",
      " [9]]\n",
      "(1, 5)\n",
      "[[5 6 7 8 9]]\n"
     ]
    }
   ],
   "source": [
    "print(type(a[1, :, np.newaxis]))\n",
    "\n",
    "print(a[1, :, np.newaxis].shape)\n",
    "print(a[1, :, np.newaxis])\n",
    "\n",
    "print(a[np.newaxis, 1, :].shape)\n",
    "print(a[np.newaxis, 1, :])"
   ]
  },
  {
   "cell_type": "code",
   "execution_count": 8,
   "metadata": {},
   "outputs": [
    {
     "name": "stdout",
     "output_type": "stream",
     "text": [
      "[[ 0  1  2  3  4]\n",
      " [ 5  6  7  8  9]\n",
      " [10 11 12 13 14]]\n",
      "[[ 3  3]\n",
      " [ 8  8]\n",
      " [13 13]]\n"
     ]
    }
   ],
   "source": [
    "print(a)\n",
    "print(a[:, [3, 3]])"
   ]
  }
 ],
 "metadata": {
  "kernelspec": {
   "display_name": "Python 2",
   "language": "python",
   "name": "python2"
  },
  "language_info": {
   "codemirror_mode": {
    "name": "ipython",
    "version": 2
   },
   "file_extension": ".py",
   "mimetype": "text/x-python",
   "name": "python",
   "nbconvert_exporter": "python",
   "pygments_lexer": "ipython2",
   "version": "2.7.14"
  }
 },
 "nbformat": 4,
 "nbformat_minor": 2
}
