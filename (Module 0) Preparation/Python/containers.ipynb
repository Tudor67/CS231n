{
 "cells": [
  {
   "cell_type": "code",
   "execution_count": 1,
   "metadata": {},
   "outputs": [
    {
     "name": "stdout",
     "output_type": "stream",
     "text": [
      "<type 'list'>\n",
      "['cat', 'dog', 'monkey']\n",
      "cat\n",
      "dog\n",
      "monkey\n"
     ]
    }
   ],
   "source": [
    "# lists\n",
    "animals = ['cat', 'dog', 'monkey']\n",
    "print(type(animals))\n",
    "print(animals)\n",
    "for animal in animals:\n",
    "    print(animal)"
   ]
  },
  {
   "cell_type": "code",
   "execution_count": 2,
   "metadata": {},
   "outputs": [
    {
     "name": "stdout",
     "output_type": "stream",
     "text": [
      "#1: cat\n",
      "#2: dog\n",
      "#3: monkey\n"
     ]
    }
   ],
   "source": [
    "animals = ['cat', 'dog', 'monkey']\n",
    "for idx, animal in enumerate(animals):\n",
    "    print('#%d: %s' % (idx + 1, animal))"
   ]
  },
  {
   "cell_type": "code",
   "execution_count": 3,
   "metadata": {},
   "outputs": [
    {
     "name": "stdout",
     "output_type": "stream",
     "text": [
      "[0, 1, 4, 9, 16]\n"
     ]
    }
   ],
   "source": [
    "# list comprehensions\n",
    "nums = range(5)\n",
    "squares = [x ** 2 for x in nums]\n",
    "print(squares)"
   ]
  },
  {
   "cell_type": "code",
   "execution_count": 4,
   "metadata": {},
   "outputs": [
    {
     "name": "stdout",
     "output_type": "stream",
     "text": [
      "[0, 4, 16]\n"
     ]
    }
   ],
   "source": [
    "nums = range(5)\n",
    "even_squares = [x ** 2 for x in nums if x % 2 == 0]\n",
    "print(even_squares)"
   ]
  },
  {
   "cell_type": "code",
   "execution_count": 5,
   "metadata": {},
   "outputs": [
    {
     "name": "stdout",
     "output_type": "stream",
     "text": [
      "[5, 9, 13, 'foo', 7]\n",
      "[5, 9, 13, 'foo', 7]\n",
      "[13, 'foo', 7]\n",
      "[5, 9, 13, 'foo']\n",
      "[5, 9, 9999, 888, 7]\n"
     ]
    }
   ],
   "source": [
    "# slicing\n",
    "xs = [5, 9, 13, 'foo', 7]\n",
    "print(xs)\n",
    "print(xs[:])\n",
    "print(xs[2:])\n",
    "print(xs[:-1])\n",
    "xs[2:4] = [9999, 888]\n",
    "print(xs)"
   ]
  },
  {
   "cell_type": "code",
   "execution_count": 6,
   "metadata": {},
   "outputs": [
    {
     "name": "stdout",
     "output_type": "stream",
     "text": [
      "<type 'dict'>\n",
      "{'dog': 7, 'cat': 3}\n",
      "True\n",
      "False\n",
      "3\n",
      "11\n",
      "None\n",
      "N/A\n",
      "None\n"
     ]
    }
   ],
   "source": [
    "# dictionaries\n",
    "d = {'cat': 3, 'dog': 7}\n",
    "\n",
    "print(type(d))\n",
    "print(d)\n",
    "\n",
    "print('cat' in d)\n",
    "print('monkey' in d)\n",
    "print(d['cat'])\n",
    "d['fish'] = 11\n",
    "print(d['fish'])\n",
    "# print(d['monkey']) # KeyError : 'monkey' not a key of d\n",
    "print(d.get('monkey'))\n",
    "print(d.get('monkey', 'N/A'))\n",
    "del d['cat']\n",
    "print(d.get('cat'))"
   ]
  },
  {
   "cell_type": "code",
   "execution_count": 7,
   "metadata": {},
   "outputs": [
    {
     "name": "stdout",
     "output_type": "stream",
     "text": [
      "{'person': 2, 'spider': 8, 'cat': 4}\n",
      "keys : ['person', 'spider', 'cat']\n",
      "values : [2, 8, 4]\n",
      "\n",
      "initial:\n",
      "person\n",
      "spider\n",
      "cat\n",
      "\n",
      "sorted:\n",
      "cat\n",
      "person\n",
      "spider\n"
     ]
    }
   ],
   "source": [
    "d = {'person': 2, 'cat': 4, 'spider': 8}\n",
    "\n",
    "print(d)\n",
    "print('keys : {}'.format(d.keys()))\n",
    "print('values : {}'.format(d.values()))\n",
    "\n",
    "print('\\ninitial:')\n",
    "for key in d.keys():\n",
    "    print(key)\n",
    "    \n",
    "print('\\nsorted:')\n",
    "for key in sorted(d.keys()):\n",
    "    print(key)"
   ]
  },
  {
   "cell_type": "code",
   "execution_count": 8,
   "metadata": {},
   "outputs": [
    {
     "name": "stdout",
     "output_type": "stream",
     "text": [
      "A person has 2 legs\n",
      "A spider has 8 legs\n",
      "A cat has 4 legs\n"
     ]
    }
   ],
   "source": [
    "d = {'person': 2, 'cat': 4, 'spider': 8}\n",
    "for animal in d:\n",
    "    legs = d[animal]\n",
    "    print('A %s has %d legs' % (animal, legs))"
   ]
  },
  {
   "cell_type": "code",
   "execution_count": 9,
   "metadata": {},
   "outputs": [
    {
     "name": "stdout",
     "output_type": "stream",
     "text": [
      "A person has 2 legs\n",
      "A spider has 8 legs\n",
      "A cat has 4 legs\n"
     ]
    }
   ],
   "source": [
    "d = {'person': 2, 'cat': 4, 'spider': 8}\n",
    "for animal, legs in d.items():\n",
    "    print('A %s has %d legs' % (animal, legs))"
   ]
  },
  {
   "cell_type": "code",
   "execution_count": 10,
   "metadata": {},
   "outputs": [
    {
     "name": "stdout",
     "output_type": "stream",
     "text": [
      "{0: 0, 2: 4, 4: 16}\n"
     ]
    }
   ],
   "source": [
    "# dictionary comprehensions\n",
    "nums = [0, 1, 2, 3, 4, 5]\n",
    "even_num_to_square = {x: x ** 2 for x in nums if x % 2 == 0}\n",
    "print(even_num_to_square)"
   ]
  },
  {
   "cell_type": "code",
   "execution_count": 11,
   "metadata": {},
   "outputs": [
    {
     "name": "stdout",
     "output_type": "stream",
     "text": [
      "set(['a', 'test', 5, 9])\n",
      "4\n"
     ]
    }
   ],
   "source": [
    "# sets\n",
    "my_set = {'a', 'test', 5, 9}\n",
    "print(my_set)\n",
    "print(len(my_set))"
   ]
  },
  {
   "cell_type": "code",
   "execution_count": 12,
   "metadata": {},
   "outputs": [
    {
     "name": "stdout",
     "output_type": "stream",
     "text": [
      "set(['dog', 'cat'])\n",
      "2\n",
      "True\n",
      "False\n",
      "True\n",
      "False\n",
      "set(['fish', 'dog'])\n"
     ]
    }
   ],
   "source": [
    "animals = {'cat', 'dog'}\n",
    "print(animals)\n",
    "print(len(animals))      # 2\n",
    "print('cat' in animals)  # True\n",
    "print('fish' in animals) # False\n",
    "animals.add('fish')\n",
    "print('fish' in animals) # True\n",
    "animals.remove('cat')\n",
    "print('cat' in animals)  # False\n",
    "print(animals)"
   ]
  },
  {
   "cell_type": "code",
   "execution_count": 13,
   "metadata": {},
   "outputs": [
    {
     "name": "stdout",
     "output_type": "stream",
     "text": [
      "fish\n",
      "dog\n",
      "cat\n",
      "#1: fish\n",
      "#2: dog\n",
      "#3: cat\n"
     ]
    }
   ],
   "source": [
    "animals = {'cat', 'dog', 'fish'}\n",
    "for animal in animals:\n",
    "    print(animal)\n",
    "\n",
    "for idx, animal in enumerate(animals):\n",
    "    print('#%d: %s' % (idx + 1, animal))"
   ]
  },
  {
   "cell_type": "code",
   "execution_count": 14,
   "metadata": {},
   "outputs": [
    {
     "name": "stdout",
     "output_type": "stream",
     "text": [
      "set([0, 1, 2, 3, 4, 5])\n"
     ]
    }
   ],
   "source": [
    "# set comprehensions\n",
    "from math import sqrt\n",
    "nums = {int(sqrt(x)) for x in range(30)}\n",
    "print(nums)"
   ]
  },
  {
   "cell_type": "code",
   "execution_count": 15,
   "metadata": {},
   "outputs": [
    {
     "name": "stdout",
     "output_type": "stream",
     "text": [
      "<type 'tuple'>\n",
      "5\n",
      "1\n"
     ]
    }
   ],
   "source": [
    "# tuples\n",
    "d = {(x, x + 1): x for x in range(10)} # dictionary with tuple keys\n",
    "t = (5, 6) # a tuple\n",
    "print(type(t))\n",
    "print(d[t])\n",
    "print(d[(1, 2)])"
   ]
  }
 ],
 "metadata": {
  "kernelspec": {
   "display_name": "Python 2",
   "language": "python",
   "name": "python2"
  },
  "language_info": {
   "codemirror_mode": {
    "name": "ipython",
    "version": 2
   },
   "file_extension": ".py",
   "mimetype": "text/x-python",
   "name": "python",
   "nbconvert_exporter": "python",
   "pygments_lexer": "ipython2",
   "version": "2.7.14"
  }
 },
 "nbformat": 4,
 "nbformat_minor": 2
}
