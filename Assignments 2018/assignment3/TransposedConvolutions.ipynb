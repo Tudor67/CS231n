{
 "cells": [
  {
   "cell_type": "markdown",
   "metadata": {},
   "source": [
    "# Transposed Convolutions (inappropriately called ''deconvolutions'')\n",
    "https://pytorch.org/docs/stable/nn.html#torch.nn.ConvTranspose2d  \n",
    "https://towardsdatascience.com/types-of-convolutions-in-deep-learning-717013397f4d"
   ]
  },
  {
   "cell_type": "code",
   "execution_count": 1,
   "metadata": {},
   "outputs": [],
   "source": [
    "import numpy as np\n",
    "import torch\n",
    "\n",
    "def describe(a):\n",
    "    print(a)\n",
    "    print(a.shape)\n",
    "    print(a.dtype)"
   ]
  },
  {
   "cell_type": "code",
   "execution_count": 2,
   "metadata": {},
   "outputs": [
    {
     "name": "stdout",
     "output_type": "stream",
     "text": [
      "tensor([[[[1., 2.],\n",
      "          [3., 4.]]]])\n",
      "torch.Size([1, 1, 2, 2])\n",
      "torch.float32\n"
     ]
    }
   ],
   "source": [
    "x = torch.FloatTensor([[[[1, 2], [3, 4]]]])\n",
    "describe(x)"
   ]
  },
  {
   "cell_type": "code",
   "execution_count": 3,
   "metadata": {},
   "outputs": [
    {
     "name": "stdout",
     "output_type": "stream",
     "text": [
      "tensor([[[[1., 1.],\n",
      "          [1., 1.]]]])\n",
      "torch.Size([1, 1, 2, 2])\n",
      "torch.float32\n"
     ]
    }
   ],
   "source": [
    "w = torch.ones([1, 1, 2, 2])\n",
    "describe(w)"
   ]
  },
  {
   "cell_type": "code",
   "execution_count": 4,
   "metadata": {},
   "outputs": [
    {
     "name": "stdout",
     "output_type": "stream",
     "text": [
      "tensor([[[[ 1.,  3.,  2.],\n",
      "          [ 4., 10.,  6.],\n",
      "          [ 3.,  7.,  4.]]]])\n",
      "torch.Size([1, 1, 3, 3])\n",
      "torch.float32\n"
     ]
    }
   ],
   "source": [
    "z1 = torch.nn.functional.conv_transpose2d(x, w)\n",
    "describe(z1)"
   ]
  },
  {
   "cell_type": "code",
   "execution_count": 5,
   "metadata": {},
   "outputs": [
    {
     "name": "stdout",
     "output_type": "stream",
     "text": [
      "tensor([[[[1., 1., 2., 2.],\n",
      "          [1., 1., 2., 2.],\n",
      "          [3., 3., 4., 4.],\n",
      "          [3., 3., 4., 4.]]]])\n",
      "torch.Size([1, 1, 4, 4])\n",
      "torch.float32\n"
     ]
    }
   ],
   "source": [
    "z2 = torch.nn.functional.conv_transpose2d(x, w, stride=2)\n",
    "describe(z2)"
   ]
  },
  {
   "cell_type": "code",
   "execution_count": 6,
   "metadata": {},
   "outputs": [
    {
     "name": "stdout",
     "output_type": "stream",
     "text": [
      "tensor([[[[1., 1., 0., 2., 2.],\n",
      "          [1., 1., 0., 2., 2.],\n",
      "          [0., 0., 0., 0., 0.],\n",
      "          [3., 3., 0., 4., 4.],\n",
      "          [3., 3., 0., 4., 4.]]]])\n",
      "torch.Size([1, 1, 5, 5])\n",
      "torch.float32\n"
     ]
    }
   ],
   "source": [
    "z3 = torch.nn.functional.conv_transpose2d(x, w, stride=3)\n",
    "describe(z3)"
   ]
  }
 ],
 "metadata": {
  "kernelspec": {
   "display_name": "Python 3",
   "language": "python",
   "name": "python3"
  },
  "language_info": {
   "codemirror_mode": {
    "name": "ipython",
    "version": 3
   },
   "file_extension": ".py",
   "mimetype": "text/x-python",
   "name": "python",
   "nbconvert_exporter": "python",
   "pygments_lexer": "ipython3",
   "version": "3.6.6"
  }
 },
 "nbformat": 4,
 "nbformat_minor": 2
}
