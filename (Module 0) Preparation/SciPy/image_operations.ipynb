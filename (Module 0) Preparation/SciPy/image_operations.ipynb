{
 "cells": [
  {
   "cell_type": "code",
   "execution_count": 1,
   "metadata": {},
   "outputs": [
    {
     "name": "stdout",
     "output_type": "stream",
     "text": [
      "(dtype('uint8'), (194, 259, 3))\n"
     ]
    }
   ],
   "source": [
    "# scipy.misc.imread, scipy.misc.imsave, scipy.misc.imresize are deprecated in SciPy 1.0.0\n",
    "# and will be removed in 1.2.0\n",
    "# use imageio.imread, imageio.imwrite instead\n",
    "from scipy.misc import imread, imsave, imresize\n",
    "\n",
    "img = imread('images/tesla.jpeg')\n",
    "print(img.dtype, img.shape)\n",
    "\n",
    "img_tinted = img * [1, 0.95, 0.9]\n",
    "\n",
    "img_tinted = imresize(img_tinted, (100, 100))\n",
    "\n",
    "imsave('images/tesla_tinted.jpeg', img_tinted)"
   ]
  },
  {
   "cell_type": "code",
   "execution_count": 2,
   "metadata": {},
   "outputs": [
    {
     "name": "stdout",
     "output_type": "stream",
     "text": [
      "(dtype('uint8'), (194, 259, 3))\n"
     ]
    },
    {
     "name": "stderr",
     "output_type": "stream",
     "text": [
      "/home/tudor/anaconda2/lib/python2.7/site-packages/imageio/core/util.py:78: UserWarning: Lossy conversion from float64 to uint8, range [0, 1]\n",
      "  dtype_str, out_type.__name__))\n"
     ]
    }
   ],
   "source": [
    "from imageio import imread, imwrite\n",
    "from skimage.transform import resize\n",
    "\n",
    "img = imread('images/tesla.jpeg')\n",
    "print(img.dtype, img.shape)\n",
    "\n",
    "img.tinted = img * [1, 0.95, 0.9]\n",
    "\n",
    "img_tinted = resize(img_tinted, (100, 100), mode='constant')\n",
    "\n",
    "imwrite('images/tesla_tinted_imageio.jpeg', img_tinted)"
   ]
  }
 ],
 "metadata": {
  "kernelspec": {
   "display_name": "Python 2",
   "language": "python",
   "name": "python2"
  },
  "language_info": {
   "codemirror_mode": {
    "name": "ipython",
    "version": 2
   },
   "file_extension": ".py",
   "mimetype": "text/x-python",
   "name": "python",
   "nbconvert_exporter": "python",
   "pygments_lexer": "ipython2",
   "version": "2.7.14"
  }
 },
 "nbformat": 4,
 "nbformat_minor": 2
}
