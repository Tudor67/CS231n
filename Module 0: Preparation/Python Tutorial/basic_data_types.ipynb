{
 "cells": [
  {
   "cell_type": "code",
   "execution_count": 9,
   "metadata": {},
   "outputs": [
    {
     "name": "stdout",
     "output_type": "stream",
     "text": [
      "3\n",
      "<type 'int'>\n",
      "1\n",
      "1\n",
      "9\n"
     ]
    }
   ],
   "source": [
    "# integers\n",
    "x = 3\n",
    "print(x)       # Prints \"3\"\n",
    "print(type(x)) # Prints \"<class 'int'>\"\n",
    "print(x / 2)   # Prints \"1\"\n",
    "print(x // 2)  # Prints \"1\"\n",
    "print(x ** 2)  # Exponentiation; prints \"9\""
   ]
  },
  {
   "cell_type": "code",
   "execution_count": 14,
   "metadata": {},
   "outputs": [
    {
     "name": "stdout",
     "output_type": "stream",
     "text": [
      "2.5\n",
      "<type 'float'>\n",
      "(10.0, 6.25)\n",
      "7.0\n",
      "<type 'float'>\n",
      "3.5\n",
      "3.0\n",
      "0.6\n",
      "49.0\n",
      "49.0\n"
     ]
    }
   ],
   "source": [
    "# floats\n",
    "y = 2.5\n",
    "print(y)        # Prints 2.5\n",
    "print(type(y))  # Prints \"<class 'float'>\"\n",
    "print(y * 4, y ** 2) # Prints \"(10.0, 6.25)\"\n",
    "\n",
    "z = 7.0\n",
    "print(z)         # Prints \"7.0\"\n",
    "print(type(z))   # Prints \"<class 'float'>\"\n",
    "print(z / 2)     # Prints \"3.5\"\n",
    "print(z // 2)    # Floored quotient of z and 2; prints \"3.0\"\n",
    "print(z % 3.2)   # Remainder of z / 3.2; prints \"0.6\"\n",
    "print(z ** 2)    # Prints \"49.0\"\n",
    "print(pow(z, 2)) # Prints \"49.0\""
   ]
  },
  {
   "cell_type": "code",
   "execution_count": 15,
   "metadata": {},
   "outputs": [
    {
     "name": "stdout",
     "output_type": "stream",
     "text": [
      "<type 'bool'>\n",
      "False\n",
      "True\n",
      "False\n",
      "True\n"
     ]
    }
   ],
   "source": [
    "# booleans\n",
    "t = True\n",
    "f = False\n",
    "print(type(t))  # Prints \"<class 'bool'>\"\n",
    "print(t and f)  # Logical AND; prints \"False\"\n",
    "print(t or f)   # Logical OR;  prints \"True\"\n",
    "print(not t)    # Logical NOT; prints \"False\"\n",
    "print(t != f)   # Logical XOR; prints \"True\""
   ]
  },
  {
   "cell_type": "code",
   "execution_count": 21,
   "metadata": {},
   "outputs": [
    {
     "name": "stdout",
     "output_type": "stream",
     "text": [
      "hello\n",
      "5\n",
      "hello world\n",
      "hello world 12\n",
      "let's .... play !\n"
     ]
    }
   ],
   "source": [
    "# strings\n",
    "hello = 'hello'\n",
    "world = \"world\"\n",
    "print(hello)\n",
    "print(len(hello))                      # Prints \"5\"\n",
    "hw = hello + ' ' + world               # hw = \"hello world\"\n",
    "print(hw)\n",
    "hw12 = '%s %s %d' % (hello, world, 12) # hw12 = \"hello world 12\"\n",
    "print(hw12)\n",
    "\n",
    "a = \"let's\"\n",
    "b = \"play\"\n",
    "test = '{} .... {} !'.format(a, b)     # test = \"let's .... play !\"\n",
    "print(test)"
   ]
  },
  {
   "cell_type": "code",
   "execution_count": 39,
   "metadata": {},
   "outputs": [
    {
     "name": "stdout",
     "output_type": "stream",
     "text": [
      "Hello\n",
      "HELLO\n",
      "  hello\n",
      " hello \n",
      "he(ell)(ell)o\n",
      "world\n"
     ]
    }
   ],
   "source": [
    "# string methods\n",
    "s = hello\n",
    "print(s.capitalize()) # Capitalize a string; prints \"Hello\"\n",
    "print(s.upper())      # Convert a string to uppercase; prints \"HELLO\"\n",
    "print(s.rjust(7))     # Right-justify a string, padding with spaces; prints \"  hello\"\n",
    "print(s.center(7))    # Center a string, padding with spaces; prints \" hello \"\n",
    "print(s.replace('l', '(ell)')) # Replace all instances of one substring with another;\n",
    "                               # prints \"he(ell)(ell)o\"\n",
    "print('  world '.strip()) # Strip leading and trailing whitespace; prints \"world\""
   ]
  }
 ],
 "metadata": {
  "kernelspec": {
   "display_name": "Python 2",
   "language": "python",
   "name": "python2"
  },
  "language_info": {
   "codemirror_mode": {
    "name": "ipython",
    "version": 2
   },
   "file_extension": ".py",
   "mimetype": "text/x-python",
   "name": "python",
   "nbconvert_exporter": "python",
   "pygments_lexer": "ipython2",
   "version": "2.7.14"
  }
 },
 "nbformat": 4,
 "nbformat_minor": 2
}
