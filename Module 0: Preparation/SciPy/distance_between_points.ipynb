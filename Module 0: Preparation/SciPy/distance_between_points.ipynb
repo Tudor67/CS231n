{
 "cells": [
  {
   "cell_type": "code",
   "execution_count": 1,
   "metadata": {},
   "outputs": [
    {
     "name": "stdout",
     "output_type": "stream",
     "text": [
      "[[0 1]\n",
      " [1 0]\n",
      " [2 0]]\n",
      "[[ 0.          1.41421356  2.23606798]\n",
      " [ 1.41421356  0.          1.        ]\n",
      " [ 2.23606798  1.          0.        ]]\n"
     ]
    }
   ],
   "source": [
    "# the distance between all pairs of points in a given set\n",
    "import numpy as np\n",
    "from scipy.spatial.distance import pdist, squareform\n",
    "\n",
    "# Create the following array where each row is a point in 2D space:\n",
    "# [[0 1]\n",
    "#  [1 0]\n",
    "#  [2 0]]\n",
    "x = np.array([[0, 1], [1, 0], [2, 0]])\n",
    "print(x)\n",
    "\n",
    "# Compute the Euclidean distance between all rows of x.\n",
    "# d[i, j] is the Euclidean distance between x[i, :] and x[j, :],\n",
    "# and d is the following array:\n",
    "# [[ 0.          1.41421356  2.23606798]\n",
    "#  [ 1.41421356  0.          1.        ]\n",
    "#  [ 2.23606798  1.          0.        ]]\n",
    "d = squareform(pdist(x, 'euclidean'))\n",
    "print(d)"
   ]
  },
  {
   "cell_type": "code",
   "execution_count": 2,
   "metadata": {},
   "outputs": [
    {
     "name": "stdout",
     "output_type": "stream",
     "text": [
      "initial points\n",
      "[[ 0  1]\n",
      " [ 7  0]\n",
      " [ 2  0]\n",
      " [40  3]]\n",
      "\n",
      "pdist\n",
      "[  7.07106781   2.23606798  40.04996879   5.          33.13608305\n",
      "  38.11823711]\n",
      "\n",
      "squareform(pdist(..))\n",
      "[[  0.           7.07106781   2.23606798  40.04996879]\n",
      " [  7.07106781   0.           5.          33.13608305]\n",
      " [  2.23606798   5.           0.          38.11823711]\n",
      " [ 40.04996879  33.13608305  38.11823711   0.        ]]\n"
     ]
    }
   ],
   "source": [
    "# the distance between all pairs of points in a given set\n",
    "import numpy as np\n",
    "from scipy.spatial.distance import pdist, squareform\n",
    "\n",
    "x = np.array([[0, 1], [7, 0], [2, 0], [40, 3]])\n",
    "print('initial points')\n",
    "print(x)\n",
    "\n",
    "print('\\npdist')\n",
    "print(pdist(x, 'euclidean'))\n",
    "\n",
    "d = squareform(pdist(x, 'euclidean'))\n",
    "print('\\nsquareform(pdist(..))')\n",
    "print(d)"
   ]
  },
  {
   "cell_type": "code",
   "execution_count": 3,
   "metadata": {},
   "outputs": [
    {
     "name": "stdout",
     "output_type": "stream",
     "text": [
      "[[  5.           1.           2.23606798   9.21954446]\n",
      " [ 11.18033989   7.           9.21954446  16.2788206 ]\n",
      " [  6.32455532   7.21110255   4.47213595   3.16227766]]\n"
     ]
    }
   ],
   "source": [
    "# the distance between all pairs across two sets of points\n",
    "import numpy as np\n",
    "from scipy.spatial.distance import cdist\n",
    "\n",
    "a = np.array([[1, 0], [0, -7], [4, 6]])\n",
    "b = np.array([[-2, 4], [0, 0], [2, 2], [3, 9]])\n",
    "\n",
    "print(cdist(a, b, 'euclidean'))"
   ]
  },
  {
   "cell_type": "code",
   "execution_count": 4,
   "metadata": {},
   "outputs": [
    {
     "name": "stdout",
     "output_type": "stream",
     "text": [
      "[[  5.           1.           2.23606798   9.21954446]\n",
      " [ 11.18033989   7.           9.21954446  16.2788206 ]\n",
      " [  6.32455532   7.21110255   4.47213595   3.16227766]]\n"
     ]
    }
   ],
   "source": [
    "# the distance between all pairs across two sets of points\n",
    "import numpy as np\n",
    "from scipy.spatial.distance import cdist\n",
    "\n",
    "a = np.array([[1, 0], [0, -7], [4, 6]])\n",
    "b = np.array([[-2, 4], [0, 0], [2, 2], [3, 9]])\n",
    "\n",
    "print(cdist(a, b, lambda u, v: np.sqrt(((u - v) ** 2).sum())))"
   ]
  },
  {
   "cell_type": "code",
   "execution_count": 5,
   "metadata": {},
   "outputs": [
    {
     "name": "stdout",
     "output_type": "stream",
     "text": [
      "[[ 5.]]\n"
     ]
    }
   ],
   "source": [
    "# the distance between all pairs across two sets of points\n",
    "import numpy as np\n",
    "from scipy.spatial.distance import cdist\n",
    "\n",
    "print(cdist([[0, 1]], [[4, 4]], 'euclidean'))"
   ]
  }
 ],
 "metadata": {
  "kernelspec": {
   "display_name": "Python 2",
   "language": "python",
   "name": "python2"
  },
  "language_info": {
   "codemirror_mode": {
    "name": "ipython",
    "version": 2
   },
   "file_extension": ".py",
   "mimetype": "text/x-python",
   "name": "python",
   "nbconvert_exporter": "python",
   "pygments_lexer": "ipython2",
   "version": "2.7.14"
  }
 },
 "nbformat": 4,
 "nbformat_minor": 2
}
