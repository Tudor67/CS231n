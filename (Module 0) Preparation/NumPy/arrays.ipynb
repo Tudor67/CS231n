{
 "cells": [
  {
   "cell_type": "code",
   "execution_count": 1,
   "metadata": {},
   "outputs": [
    {
     "name": "stdout",
     "output_type": "stream",
     "text": [
      "<type 'numpy.ndarray'>\n",
      "[1 2 3]\n",
      "(1, 2, 3)\n",
      "(3,)\n",
      "3\n",
      "1\n",
      "1\n"
     ]
    }
   ],
   "source": [
    "import numpy as np\n",
    "\n",
    "a = np.array([1, 2, 3])\n",
    "print(type(a))\n",
    "print(a)\n",
    "print(a[0], a[1], a[2])\n",
    "\n",
    "print(a.shape) # (3,)\n",
    "print(a.size)  # 3\n",
    "\n",
    "# a.ndim == len(a.shape)\n",
    "print(len(a.shape)) # 1\n",
    "print(a.ndim)       # 1\n"
   ]
  },
  {
   "cell_type": "code",
   "execution_count": 2,
   "metadata": {},
   "outputs": [
    {
     "name": "stdout",
     "output_type": "stream",
     "text": [
      "[1 2 3]\n",
      "[4 5 6]\n",
      "(1, 2, 4)\n",
      "(2, 3)\n",
      "6\n",
      "2\n",
      "2\n"
     ]
    }
   ],
   "source": [
    "import numpy as np\n",
    "\n",
    "b = np.array([[1, 2, 3], [4, 5, 6]])\n",
    "print(b[0])\n",
    "print(b[1])\n",
    "print(b[0, 0], b[0, 1], b[1, 0])\n",
    "\n",
    "print(b.shape) # (2, 3)\n",
    "print(b.size)  # 6\n",
    "\n",
    "# b.ndim == len(b.shape)\n",
    "print(len(b.shape)) # 2\n",
    "print(b.ndim)       # 2"
   ]
  },
  {
   "cell_type": "code",
   "execution_count": 3,
   "metadata": {},
   "outputs": [
    {
     "name": "stdout",
     "output_type": "stream",
     "text": [
      "[ 0.  0.]\n",
      "[[ 0.  0.  0.  0.  0.]\n",
      " [ 0.  0.  0.  0.  0.]\n",
      " [ 0.  0.  0.  0.  0.]]\n",
      "[[ 1.  1.  1.  1.]]\n",
      "[[7 7 4]\n",
      " [7 7 7]]\n",
      "[[ 1.  0.  0.]\n",
      " [ 0.  1.  0.]\n",
      " [ 0.  0.  1.]]\n",
      "[[ 1.  0.  0.  0.  0.]\n",
      " [ 0.  1.  0.  0.  0.]]\n",
      "[[ 0.38160191  0.51022753  0.93551151]\n",
      " [ 0.33649423  0.99197485  0.58733583]]\n"
     ]
    }
   ],
   "source": [
    "import numpy as np\n",
    "\n",
    "a = np.zeros((2))\n",
    "print(a)\n",
    "\n",
    "a = np.zeros((3, 5))\n",
    "print(a)\n",
    "\n",
    "b = np.ones((1, 4))\n",
    "print(b)\n",
    "\n",
    "c = np.full((2, 3), 7)\n",
    "c[0, 2] = 4\n",
    "print(c)\n",
    "\n",
    "d = np.eye(3)\n",
    "print(d)\n",
    "\n",
    "d = np.eye(2, 5)\n",
    "print(d)\n",
    "\n",
    "e = np.random.random((2, 3))\n",
    "print(e)"
   ]
  },
  {
   "cell_type": "code",
   "execution_count": 4,
   "metadata": {},
   "outputs": [
    {
     "name": "stdout",
     "output_type": "stream",
     "text": [
      "[0 1 2 3 4 5 6 7 8 9]\n",
      "[ 2.  3.  4.  5.  6.  7.  8.  9.]\n",
      "[ 2.   2.1  2.2  2.3  2.4  2.5  2.6  2.7  2.8  2.9]\n"
     ]
    }
   ],
   "source": [
    "import numpy as np\n",
    "\n",
    "a = np.arange(10)\n",
    "print(a)\n",
    "\n",
    "b = np.arange(2, 10, dtype=float)\n",
    "print(b)\n",
    "\n",
    "c = np.arange(2, 3, 0.1)\n",
    "print(c)"
   ]
  },
  {
   "cell_type": "code",
   "execution_count": 5,
   "metadata": {},
   "outputs": [
    {
     "name": "stdout",
     "output_type": "stream",
     "text": [
      "[ 1.   1.5  2.   2.5  3.   3.5  4.   4.5  5. ]\n"
     ]
    }
   ],
   "source": [
    "import numpy as np\n",
    "\n",
    "x = np.linspace(1, 5, 9)\n",
    "print(x)"
   ]
  }
 ],
 "metadata": {
  "kernelspec": {
   "display_name": "Python 2",
   "language": "python",
   "name": "python2"
  },
  "language_info": {
   "codemirror_mode": {
    "name": "ipython",
    "version": 2
   },
   "file_extension": ".py",
   "mimetype": "text/x-python",
   "name": "python",
   "nbconvert_exporter": "python",
   "pygments_lexer": "ipython2",
   "version": "2.7.14"
  }
 },
 "nbformat": 4,
 "nbformat_minor": 2
}
