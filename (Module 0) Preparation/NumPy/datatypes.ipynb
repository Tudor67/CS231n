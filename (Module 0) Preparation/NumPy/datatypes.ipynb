{
 "cells": [
  {
   "cell_type": "code",
   "execution_count": 1,
   "metadata": {},
   "outputs": [
    {
     "name": "stdout",
     "output_type": "stream",
     "text": [
      "int64\n",
      "float64\n",
      "int32\n"
     ]
    }
   ],
   "source": [
    "import numpy as np\n",
    "\n",
    "x = np.array([1, 2])\n",
    "print(x.dtype)\n",
    "\n",
    "y = np.array([1., 2.])\n",
    "print(y.dtype)\n",
    "\n",
    "z = np.array([1, 5], dtype=np.int32)\n",
    "print(z.dtype)"
   ]
  },
  {
   "cell_type": "code",
   "execution_count": 2,
   "metadata": {},
   "outputs": [
    {
     "name": "stdout",
     "output_type": "stream",
     "text": [
      "int64\n",
      "float64\n"
     ]
    }
   ],
   "source": [
    "import numpy as np\n",
    "\n",
    "dt = np.dtype(int)\n",
    "print(dt)\n",
    "\n",
    "dt = np.dtype(float)\n",
    "print(dt)"
   ]
  },
  {
   "cell_type": "code",
   "execution_count": 3,
   "metadata": {},
   "outputs": [
    {
     "name": "stdout",
     "output_type": "stream",
     "text": [
      "|S16\n",
      "('<f8', (2,))\n",
      "('Sarah', [ 8.,  7.])\n",
      "('John', [ 5.8,  5.8])\n",
      "<type 'numpy.string_'>\n",
      "<type 'numpy.ndarray'>\n"
     ]
    }
   ],
   "source": [
    "# a structured data type example\n",
    "import numpy as np\n",
    "\n",
    "dt = np.dtype([('name', np.string_, 16), ('grades', np.float64, (2,))])\n",
    "\n",
    "print(dt['name'])\n",
    "print(dt['grades'])\n",
    "\n",
    "x = np.array([('Sarah', (8.0, 7.0)), ('John', (5.8))], dtype=dt)\n",
    "print(x[0])\n",
    "print(x[1])\n",
    "print(type(x[0]['name']))\n",
    "print(type(x[0]['grades']))"
   ]
  }
 ],
 "metadata": {
  "kernelspec": {
   "display_name": "Python 2",
   "language": "python",
   "name": "python2"
  },
  "language_info": {
   "codemirror_mode": {
    "name": "ipython",
    "version": 2
   },
   "file_extension": ".py",
   "mimetype": "text/x-python",
   "name": "python",
   "nbconvert_exporter": "python",
   "pygments_lexer": "ipython2",
   "version": "2.7.14"
  }
 },
 "nbformat": 4,
 "nbformat_minor": 2
}
